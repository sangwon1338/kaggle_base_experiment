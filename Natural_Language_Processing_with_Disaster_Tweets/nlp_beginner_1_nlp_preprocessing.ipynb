{
 "cells": [
  {
   "cell_type": "code",
   "execution_count": 1,
   "metadata": {},
   "outputs": [
    {
     "name": "stdout",
     "output_type": "stream",
     "text": [
      "Components in en_core_web_sm pipeline:  ['tok2vec', 'tagger', 'parser', 'attribute_ruler', 'lemmatizer', 'ner']\n",
      "Components in blank pipeline:  []\n"
     ]
    }
   ],
   "source": [
    "import spacy\n",
    "\n",
    "nlp_sm = spacy.load(\"en_core_web_sm\")\n",
    "\n",
    "nlp_blank = spacy.blank(\"en\")\n",
    "\n",
    "print(\"Components in en_core_web_sm pipeline: \", nlp_sm.pipe_names)\n",
    "print(\"Components in blank pipeline: \", nlp_blank.pipe_names)"
   ]
  },
  {
   "cell_type": "code",
   "execution_count": 2,
   "metadata": {},
   "outputs": [
    {
     "name": "stdout",
     "output_type": "stream",
     "text": [
      "Components in sm pipeline:  ['tok2vec', 'tagger', 'parser', 'attribute_ruler', 'lemmatizer', 'ner', 'sentencizer']\n"
     ]
    }
   ],
   "source": [
    "nlp_sm.add_pipe('sentencizer')\n",
    "print(\"Components in sm pipeline: \", nlp_sm.pipe_names)"
   ]
  },
  {
   "cell_type": "code",
   "execution_count": 3,
   "metadata": {},
   "outputs": [
    {
     "name": "stdout",
     "output_type": "stream",
     "text": [
      "Type of doc1[0] for nlp_sm:  <class 'spacy.tokens.token.Token'>\n",
      "Type of doc2[0] for nlp_blank:  <class 'spacy.tokens.token.Token'>\n"
     ]
    }
   ],
   "source": [
    "doc1 = nlp_sm(\"Natural Language Processing\")\n",
    "token1_0 = doc1[0]\n",
    "print(\"Type of doc1[0] for nlp_sm: \", type(token1_0))\n",
    "doc2 = nlp_blank(\"Natural Language Processing\")\n",
    "token2_0 = doc2[0]\n",
    "print(\"Type of doc2[0] for nlp_blank: \", type(token2_0))"
   ]
  },
  {
   "cell_type": "code",
   "execution_count": null,
   "metadata": {},
   "outputs": [],
   "source": []
  }
 ],
 "metadata": {
  "kernelspec": {
   "display_name": "kag",
   "language": "python",
   "name": "python3"
  },
  "language_info": {
   "codemirror_mode": {
    "name": "ipython",
    "version": 3
   },
   "file_extension": ".py",
   "mimetype": "text/x-python",
   "name": "python",
   "nbconvert_exporter": "python",
   "pygments_lexer": "ipython3",
   "version": "3.9.17"
  },
  "orig_nbformat": 4
 },
 "nbformat": 4,
 "nbformat_minor": 2
}
